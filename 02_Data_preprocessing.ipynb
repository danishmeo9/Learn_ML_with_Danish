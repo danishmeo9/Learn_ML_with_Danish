{
 "cells": [
  {
   "cell_type": "markdown",
   "metadata": {},
   "source": [
    "# Data-Preprocessing"
   ]
  },
  {
   "cell_type": "markdown",
   "metadata": {},
   "source": [
    "`Data_Preprocessing` is a technique used before training a machine learning model. It involves cleaning and transforming raw data into a format that is suitable for analysis. This process can include handling missing values, normalizing or standardizing data, encoding categorical variables, and splitting the dataset into training and testing sets."
   ]
  },
  {
   "cell_type": "markdown",
   "metadata": {},
   "source": [
    "### Steps in Data Preprocessing\n",
    "\n",
    "1. Data-Cleaning\n",
    "\n",
    "2. Data_Integration\n",
    "\n",
    "3. Data-Transformation\n",
    "\n",
    "4. Data-Reduction\n",
    "\n",
    "5. Data-Discretization\n"
   ]
  },
  {
   "cell_type": "markdown",
   "metadata": {},
   "source": [
    "`Data cleaning` routines work to “clean” the data by filling in missing values,\n",
    "smoothing noisy data, Identifying or removing Outliers, and resolving Inconsistencies."
   ]
  },
  {
   "cell_type": "markdown",
   "metadata": {},
   "source": [
    "`Data_Integration` Data_integrate,duplicates handling, data merging,data conslidation "
   ]
  },
  {
   "cell_type": "markdown",
   "metadata": {},
   "source": [
    "` Data Transformation` includes scalling,Normalizing,Aggregating,Generalization and Higher level concepts"
   ]
  },
  {
   "cell_type": "markdown",
   "metadata": {},
   "source": [
    "` Data Reduction` includes Dimensionality Reduction,Numeristy reduction,Data Compression"
   ]
  },
  {
   "cell_type": "markdown",
   "metadata": {},
   "source": [
    "`Data Discretization` it include Binning and Segmentation and and converting numerica data into categorical data"
   ]
  },
  {
   "cell_type": "code",
   "execution_count": null,
   "metadata": {},
   "outputs": [],
   "source": []
  }
 ],
 "metadata": {
  "kernelspec": {
   "display_name": "Python 3",
   "language": "python",
   "name": "python3"
  },
  "language_info": {
   "codemirror_mode": {
    "name": "ipython",
    "version": 3
   },
   "file_extension": ".py",
   "mimetype": "text/x-python",
   "name": "python",
   "nbconvert_exporter": "python",
   "pygments_lexer": "ipython3",
   "version": "3.13.1"
  }
 },
 "nbformat": 4,
 "nbformat_minor": 2
}
