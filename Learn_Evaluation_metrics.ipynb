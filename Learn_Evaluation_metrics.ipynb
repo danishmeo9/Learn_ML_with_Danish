{
 "cells": [
  {
   "cell_type": "markdown",
   "id": "76d1e0b0",
   "metadata": {},
   "source": [
    " # Evaluation metrics\n",
    " \n",
    " `Evaluation Metrics` are used to evaluate the performance of a machine learning model. They provide a way to measure how well the model is performing on a given task, such as classification, regression, or clustering.\n",
    " "
   ]
  },
  {
   "cell_type": "markdown",
   "id": "9178c483",
   "metadata": {},
   "source": [
    "- Regression Metrics\n",
    "Regression metrics are used to evaluate \n",
    "    - Mean Absolute Error (MAE): \n",
    "\n",
    "    - Mean Squared Error (MSE)\n",
    "    - Root Mean Squared Error (RMSE)\n",
    "    - R-squared (R2)\n",
    "- Classification Metrics\n",
    "    - Accuracy\n",
    "    - Precision\n",
    "    - Recall\n",
    "    - F1 Score\n",
    "    - Confusion Matrix\n",
    "    - Classification Report\n",
    "    - ROC Curve"
   ]
  },
  {
   "cell_type": "code",
   "execution_count": null,
   "id": "888c2618",
   "metadata": {},
   "outputs": [],
   "source": []
  },
  {
   "cell_type": "code",
   "execution_count": null,
   "id": "456cc467",
   "metadata": {},
   "outputs": [],
   "source": []
  }
 ],
 "metadata": {
  "language_info": {
   "name": "python"
  }
 },
 "nbformat": 4,
 "nbformat_minor": 5
}
